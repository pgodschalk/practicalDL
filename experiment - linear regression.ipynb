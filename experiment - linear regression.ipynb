{
 "cells": [
  {
   "cell_type": "code",
   "execution_count": 5,
   "id": "c6a2c30d-ded8-4f73-8eb9-9de42f97f60b",
   "metadata": {},
   "outputs": [],
   "source": [
    "import tensorflow as tf"
   ]
  },
  {
   "cell_type": "code",
   "execution_count": 15,
   "id": "f8c52961-8001-45bd-bece-d233aeecdaa6",
   "metadata": {},
   "outputs": [
    {
     "name": "stdout",
     "output_type": "stream",
     "text": [
      "[0.8747183]\n"
     ]
    }
   ],
   "source": [
    "var = tf.random.uniform([1])\n",
    "print(var.numpy())"
   ]
  },
  {
   "cell_type": "code",
   "execution_count": 10,
   "id": "1f2caeb3-1577-4fd4-aa8e-21c23b538d78",
   "metadata": {},
   "outputs": [
    {
     "name": "stdout",
     "output_type": "stream",
     "text": [
      "tf.Tensor(\n",
      "[0.3420043  0.40292823 0.15092063 0.25059402 0.10612369 0.51296544\n",
      " 0.34219992 0.688411   0.525174   0.98300195 0.05506551 0.82239115\n",
      " 0.74405503 0.81338084 0.82235086 0.84696007 0.92089856 0.20958936\n",
      " 0.2371248  0.528417   0.7206255  0.2166332  0.26012325 0.30158365\n",
      " 0.39037228 0.45785654 0.8201208  0.01955211 0.85819983 0.97011566\n",
      " 0.7227943  0.8401431  0.2116884  0.1923219  0.49393868 0.2898792\n",
      " 0.657289   0.33696604 0.0455296  0.6778823  0.10406053 0.81581926\n",
      " 0.39388    0.2694689  0.57821584 0.18222249 0.32104182 0.5305741\n",
      " 0.24307466 0.6313915  0.36630154 0.11933291 0.06570518 0.4841045\n",
      " 0.8630755  0.77674365 0.7099395  0.9513533  0.10721743 0.01292527\n",
      " 0.03921616 0.9027504  0.82369554 0.14702547 0.10145831 0.0467242\n",
      " 0.29243302 0.10070491 0.9807167  0.47518373 0.23793149 0.83509016\n",
      " 0.97654366 0.8092481  0.63090575 0.24815404 0.33115327 0.7159716\n",
      " 0.7683964  0.9758823  0.70836496 0.00301695 0.85380065 0.14881265\n",
      " 0.30422032 0.5065435  0.9213079  0.56033444 0.8504282  0.23516893\n",
      " 0.30115986 0.26842058 0.78366745 0.8054278  0.4117273  0.08491254\n",
      " 0.2347709  0.8607806  0.08714449 0.7860073 ], shape=(100,), dtype=float32)\n"
     ]
    }
   ],
   "source": [
    "def data_creation(w=0.1, b=0.5, n=100):\n",
    "    X = tf.random.uniform(shape=(100,))\n",
    "    print(X)\n",
    "\n",
    "X = data_creation()"
   ]
  },
  {
   "cell_type": "code",
   "execution_count": 11,
   "id": "fa788c3b-8c1f-4d1c-b1a4-e46114b51e49",
   "metadata": {},
   "outputs": [],
   "source": [
    "%matplotlib inline"
   ]
  },
  {
   "cell_type": "code",
   "execution_count": null,
   "id": "676962d6-d5d5-48fb-a330-834e980b9aeb",
   "metadata": {},
   "outputs": [],
   "source": []
  }
 ],
 "metadata": {
  "kernelspec": {
   "display_name": "Python 3 (ipykernel)",
   "language": "python",
   "name": "python3"
  },
  "language_info": {
   "codemirror_mode": {
    "name": "ipython",
    "version": 3
   },
   "file_extension": ".py",
   "mimetype": "text/x-python",
   "name": "python",
   "nbconvert_exporter": "python",
   "pygments_lexer": "ipython3",
   "version": "3.11.7"
  }
 },
 "nbformat": 4,
 "nbformat_minor": 5
}
